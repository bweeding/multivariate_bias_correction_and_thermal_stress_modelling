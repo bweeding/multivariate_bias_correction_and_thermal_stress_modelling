{
 "cells": [
  {
   "cell_type": "code",
   "execution_count": null,
   "id": "aa140312-026a-4433-9325-15d6bab66cf4",
   "metadata": {},
   "outputs": [],
   "source": [
    "%matplotlib inline\n",
    "\n",
    "# import packages\n",
    "import sys\n",
    "import os\n",
    "import time\n",
    "import datetime\n",
    "from qgis import processing\n",
    "import qgis.core\n",
    "from qgis.core import QgsApplication, QgsProject, QgsCoordinateReferenceSystem, QgsRasterLayer,QgsGeometry,QgsPoint, QgsPointXY\n",
    "from qgis.analysis import QgsNativeAlgorithms\n",
    "from osgeo import gdal\n",
    "import scipy\n",
    "from scipy import ndimage\n",
    "from PIL import Image\n",
    "import numpy as np\n",
    "import glob\n",
    "import xarray as xr\n",
    "import pandas as pd\n",
    "import matplotlib\n",
    "import matplotlib.pyplot as plt\n",
    "\n",
    "# this paramter is set to avoid issues with qgis opening GUIs\n",
    "os.environ[\"QT_QPA_PLATFORM\"] = \"offscreen\""
   ]
  },
  {
   "cell_type": "markdown",
   "id": "63820865-4d25-40e8-adc7-d312f60831fc",
   "metadata": {},
   "source": [
    "The first major step is to create a .txt file of meteorological inputs compatible with the SOLWEIG model."
   ]
  },
  {
   "cell_type": "code",
   "execution_count": null,
   "id": "9c3b08ff-7d2c-4403-a1ff-0c93ac1258ca",
   "metadata": {},
   "outputs": [],
   "source": [
    "# import model data from RD-DMOFTSCIHT (web address here)\n",
    "ds = xr.open_dataset('/scratch/bweeding/AGU_dataset/CSIRO-BOM-ACCESS1-0_1990_2005.nc')\n",
    "\n",
    "# create a dataframe with SOLWEIG's required columns, and a length based on the timestamps of the model data\n",
    "met_df = pd.DataFrame(index = pd.date_range(start = pd.to_datetime(ds.timestamp[0].values), end = pd.to_datetime(ds.timestamp[-1].values), freq = '60min'),columns=['iy','id','it','imin','qn','qh','qe','qs','qf','U','RH','Tair','pres','rain','kdown','snow','ldown','fcld','wuh','xsmd','lai','kdiff','kdir','wdir'])\n",
    "\n",
    "# fill all columns with umep default value\n",
    "met_df = met_df.fillna(-999.00)\n",
    "\n",
    "# fills the time variables in the dataframe based on the timestamp index\n",
    "met_df['iy'] = np.array(met_df.index.year)\n",
    "met_df['id'] = np.array(met_df.index.dayofyear)\n",
    "met_df['it'] = np.array(met_df.index.hour)\n",
    "met_df['imin'] = np.array(met_df.index.minute)\n",
    "\n",
    "# insert data into dataframe, rounding to 2 decimal places as needed for umep\n",
    "met_df['Tair'] = ds.Tair.values.astype(float).round(2)\n",
    "met_df['RH'] = ds.RH.values.astype(float).round(2)\n",
    "met_df['U'] = ds.Uwind.values.astype(float).round(2)\n",
    "met_df['kdown'] = ds.kdown.values.astype(float).round(2)\n",
    "\n",
    "# save the file in the SOLWEIG compatible format\n",
    "met_df.to_csv('/mnt/bweeding_workspace/output/projection_metfiles/csiro_hist.txt',index=False,sep=' ')"
   ]
  },
  {
   "cell_type": "code",
   "execution_count": null,
   "id": "d009d87b-54c2-492e-b8da-82dcd00188cd",
   "metadata": {},
   "outputs": [],
   "source": [
    "# initiate qgis\n",
    "QgsApplication.setPrefixPath(\"/usr/lib/python3/dist-packages/qgis\", True)\n",
    "qgs = QgsApplication([], False)\n",
    "qgs.initQgis()\n",
    "QgsProject.instance().setCrs(QgsCoordinateReferenceSystem('EPSG:28355'))\n",
    "\n",
    "sys.path.append(r'/usr/share/qgis/python/plugins')\n",
    "\n",
    "# activate plugins\n",
    "from processing.core.Processing import ProcessingConfig\n",
    "\n",
    "# import and activate the QGIS native processing algorithms - seems to return false but work!?\n",
    "from processing.core.Processing import Processing\n",
    "Processing.initialize()\n",
    "QgsApplication.processingRegistry().addProvider(QgsNativeAlgorithms())\n",
    "\n",
    "# import UMEP processing tools\n",
    "from processing_umep_old.processing_umep_provider import ProcessingUMEPProvider\n",
    "umep_provider = ProcessingUMEPProvider()\n",
    "QgsApplication.processingRegistry().addProvider(umep_provider)\n",
    "\n",
    "# import Fusion processing tools\n",
    "import processing_fusion.fusionUtils as fusionUtils\n",
    "\n",
    "from processing_fusion.processing_fusion_provider import ProcessingFUSIONProvider\n",
    "\n",
    "fusion_provider = ProcessingFUSIONProvider()\n",
    "QgsApplication.processingRegistry().addProvider(fusion_provider)\n",
    "Processing.initialize()\n",
    "ProcessingConfig.setSettingValue(fusionUtils.FUSION_DIRECTORY, '/home/bweeding/.wine/drive_c/FUSION_wine/')"
   ]
  },
  {
   "cell_type": "code",
   "execution_count": null,
   "id": "54670e93-be1f-4e67-a785-947cea6a967e",
   "metadata": {},
   "outputs": [],
   "source": [
    "\n",
    "# sets base folder location\n",
    "base_folder = '/scratch/bweeding/'\n",
    "\n",
    "# creates run folder\n",
    "os.mkdir(base_folder+'SOLWEIG_run_csiro_hist_'+datetime.datetime.now().strftime('%d-%m-%Y_%H%M'))\n",
    "\n",
    "# sets run folder location\n",
    "run_folder = base_folder+'SOLWEIG_run_csiro_hist_'+datetime.datetime.now().strftime('%d-%m-%Y_%H%M')+'/'\n",
    "\n",
    "# creates output folder\n",
    "os.mkdir(run_folder+'SOLWEIG_output_csiro_hist_'+datetime.datetime.now().strftime('%d-%m-%Y_%H%M'))\n",
    "\n",
    "# sets output folder location\n",
    "output_folder = run_folder+'SOLWEIG_output_csiro_hist_'+datetime.datetime.now().strftime('%d-%m-%Y_%H%M')+'/'\n",
    "\n",
    "# creates folder for grid split vectors\n",
    "os.mkdir(run_folder+'grid_split')\n",
    "\n",
    "# sets the LAS (lidar) path and filename (this is pubicly available from https://maps.thelist.tas.gov.au/listmap/app/list/map)\n",
    "las_loc = '/mnt/bweeding_workspace/input/solweig_inputs/franklin_merge.las'\n",
    "\n",
    "# sets the building shape file path and filename (this is pubicly available from https://maps.thelist.tas.gov.au/listmap/app/list/map)\n",
    "build_loc = '/mnt/bweeding_workspace/input/solweig_inputs/list_2d_building_polys_hobart.shp'"
   ]
  },
  {
   "cell_type": "code",
   "execution_count": null,
   "id": "73c83743-0e90-4bf4-9537-0db63144d1bb",
   "metadata": {},
   "outputs": [],
   "source": [
    "#%% Digital elevation model production\n",
    "\n",
    "# creates a DEM using fusion:gridsurfacecreate in .dtm format\n",
    "alg_params_DEM = {\n",
    "    'ADVANCED_MODIFIERS': '',\n",
    "    'CELLSIZE': 1,\n",
    "    'CLASS': '2',\n",
    "    'INPUT': las_loc.replace('/','\\\\'),\n",
    "    'MEDIAN': '',\n",
    "    'MINIMUM': '',\n",
    "    'SLOPE': '',\n",
    "    'SMOOTH': '',\n",
    "    'SPIKE': '',\n",
    "    'VERSION64': True,\n",
    "    'XYUNITS': 0,\n",
    "    'ZUNITS': 0,\n",
    "    'OUTPUT_DTM': (run_folder+'DEM.dtm').replace('/','\\\\')\n",
    "}\n",
    "    \n",
    "dem = processing.run('fusion:gridsurfacecreate', alg_params_DEM)\n",
    "\n",
    "processing.run(\"fusion:dtm2ascii\", {'INPUT':(run_folder+'DEM.dtm').replace('/','\\\\'),'CSV':False,'RASTER':False,'MULTIPLIER':None,'OUTPUT':(run_folder+'DEM.asc').replace('/','\\\\')})\n",
    "\n"
   ]
  },
  {
   "cell_type": "code",
   "execution_count": null,
   "id": "051d8485-a407-4dc6-85ee-c937aa6fa3a5",
   "metadata": {},
   "outputs": [],
   "source": []
  },
  {
   "cell_type": "code",
   "execution_count": null,
   "id": "0a5b1c6f-e521-4553-8e0f-7542d6d80ce5",
   "metadata": {},
   "outputs": [],
   "source": []
  },
  {
   "cell_type": "code",
   "execution_count": null,
   "id": "c18d387d-0b1d-437c-96f1-74ef9b90ab94",
   "metadata": {},
   "outputs": [],
   "source": []
  },
  {
   "cell_type": "code",
   "execution_count": null,
   "id": "2f76b004-424c-438c-b98b-6ca003d6ce16",
   "metadata": {},
   "outputs": [],
   "source": []
  },
  {
   "cell_type": "code",
   "execution_count": null,
   "id": "8892089f-5e9a-4a25-a173-b8025176e795",
   "metadata": {},
   "outputs": [],
   "source": []
  },
  {
   "cell_type": "code",
   "execution_count": null,
   "id": "18830842-8187-4875-9413-529c7c84ddc8",
   "metadata": {},
   "outputs": [],
   "source": []
  },
  {
   "cell_type": "code",
   "execution_count": null,
   "id": "16fa68a3-5905-465a-8328-de3c5d5b3a14",
   "metadata": {},
   "outputs": [],
   "source": []
  },
  {
   "cell_type": "code",
   "execution_count": null,
   "id": "a8d4075e-f4af-4715-b215-82c87beda052",
   "metadata": {},
   "outputs": [],
   "source": []
  },
  {
   "cell_type": "code",
   "execution_count": null,
   "id": "52a2bf98-3f7d-4df1-9b6e-323e608d124d",
   "metadata": {},
   "outputs": [],
   "source": []
  },
  {
   "cell_type": "code",
   "execution_count": null,
   "id": "cc36b83f-fe90-4057-97b3-7e6bd0de0547",
   "metadata": {},
   "outputs": [],
   "source": []
  },
  {
   "cell_type": "code",
   "execution_count": null,
   "id": "3eb2cb70-31df-48b3-9921-f7284e0283f1",
   "metadata": {},
   "outputs": [],
   "source": []
  }
 ],
 "metadata": {
  "kernelspec": {
   "display_name": "Python [conda env:qgis]",
   "language": "python",
   "name": "conda-env-qgis-py"
  },
  "language_info": {
   "codemirror_mode": {
    "name": "ipython",
    "version": 3
   },
   "file_extension": ".py",
   "mimetype": "text/x-python",
   "name": "python",
   "nbconvert_exporter": "python",
   "pygments_lexer": "ipython3",
   "version": "3.9.2"
  }
 },
 "nbformat": 4,
 "nbformat_minor": 5
}
