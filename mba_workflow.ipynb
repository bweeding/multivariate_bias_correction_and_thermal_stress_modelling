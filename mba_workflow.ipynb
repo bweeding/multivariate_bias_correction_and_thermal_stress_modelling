{
 "cells": [
  {
   "cell_type": "code",
   "execution_count": 1,
   "id": "61258b08-b108-43e9-b511-108db364f8bd",
   "metadata": {},
   "outputs": [],
   "source": [
    "# test\n"
   ]
  },
  {
   "cell_type": "code",
   "execution_count": 2,
   "id": "d1a3b4d6-e23b-4bc3-ae03-11debe8b5ea2",
   "metadata": {},
   "outputs": [
    {
     "data": {
      "text/plain": [
       "2"
      ]
     },
     "execution_count": 2,
     "metadata": {},
     "output_type": "execute_result"
    }
   ],
   "source": [
    "1+1"
   ]
  },
  {
   "cell_type": "code",
   "execution_count": null,
   "id": "e168b103-2635-45ad-8a5c-09a1735ce9e5",
   "metadata": {},
   "outputs": [],
   "source": []
  }
 ],
 "metadata": {
  "kernelspec": {
   "display_name": "Python [conda env:xclim]",
   "language": "python",
   "name": "conda-env-xclim-py"
  },
  "language_info": {
   "codemirror_mode": {
    "name": "ipython",
    "version": 3
   },
   "file_extension": ".py",
   "mimetype": "text/x-python",
   "name": "python",
   "nbconvert_exporter": "python",
   "pygments_lexer": "ipython3",
   "version": "3.10.4"
  }
 },
 "nbformat": 4,
 "nbformat_minor": 5
}
