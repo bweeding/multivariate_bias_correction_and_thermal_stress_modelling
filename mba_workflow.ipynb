{
 "cells": [
  {
   "cell_type": "code",
   "execution_count": 4,
   "id": "61258b08-b108-43e9-b511-108db364f8bd",
   "metadata": {},
   "outputs": [],
   "source": [
    "# Multivariate bias adjustment workflow\n",
    "\n",
    "# This notebook provides an example workflow for multivariate bias adjustment (MBA) in the context of \n",
    "# thermal stress. The workflow uses four input variables (air temperature, relative humidity, wind speed, \n",
    "# and downwelling solar radiation) to calculate mean radiant temperature (Tmrt), and the Universal Thermal \n",
    "# Climate Index (UTCI).\n",
    "\n",
    "# To achieve this, we emply a diurnal version of Cannon's N-dimensional multivariate bias correction (MBCn)\n",
    "# (2018), guided by the work of Faghih (2022). Each variable undergoes individual bias adjustment in the \n",
    "# form of Quantile Delta Mapping (QDM) (Cannon et al., 2015). These adjustments are multiplicative for all\n",
    "# variables except air temperature, which is adjusted additively. To retain diurnal and annual cycles, \n",
    "# inputs are grouped by hour of the day and week of the year, with weeks 52 and 53 combined to avoid \n",
    "# week 53 containing few data points. 30 quantiles are used for each group. Mismatches in solar radiation between our historic model outputs\n",
    "# and \"observations\" (we use reanalysis data here) very occasionally led to infinite adjustment factors.\n",
    "# Accordingly, we set these adjustment factors to zero. This occurred in 0.065% of cases for the six models\n",
    "# in Weeding et al. (2023). \n",
    "\n",
    "# Once each input variable is individually adjusted, the variables are adjusted as a group using the \n",
    "# MBCn algorithm. Bias adjusted inputs are grouped by hour of the day and day of the year to retain the \n",
    "# diurnal and annual cycles as strongly as possible. 20 quantiles were used per group, and 20 iterations \n",
    "# performed. "
   ]
  },
  {
   "cell_type": "code",
   "execution_count": 2,
   "id": "d1a3b4d6-e23b-4bc3-ae03-11debe8b5ea2",
   "metadata": {},
   "outputs": [
    {
     "data": {
      "text/plain": [
       "2"
      ]
     },
     "execution_count": 2,
     "metadata": {},
     "output_type": "execute_result"
    }
   ],
   "source": [
    "1+1"
   ]
  },
  {
   "cell_type": "code",
   "execution_count": null,
   "id": "e168b103-2635-45ad-8a5c-09a1735ce9e5",
   "metadata": {},
   "outputs": [],
   "source": []
  }
 ],
 "metadata": {
  "kernelspec": {
   "display_name": "Python [conda env:xclim]",
   "language": "python",
   "name": "conda-env-xclim-py"
  },
  "language_info": {
   "codemirror_mode": {
    "name": "ipython",
    "version": 3
   },
   "file_extension": ".py",
   "mimetype": "text/x-python",
   "name": "python",
   "nbconvert_exporter": "python",
   "pygments_lexer": "ipython3",
   "version": "3.10.4"
  }
 },
 "nbformat": 4,
 "nbformat_minor": 5
}
